{
 "cells": [
  {
   "cell_type": "code",
   "execution_count": 1,
   "id": "d868b5a6-2ba5-4495-aaef-9c97b949eb35",
   "metadata": {},
   "outputs": [
    {
     "name": "stdout",
     "output_type": "stream",
     "text": [
      "    age  gender      genre\n",
      "0    20       1     HipHop\n",
      "1    23       1     HipHop\n",
      "2    25       1     HipHop\n",
      "3    26       1       Jazz\n",
      "4    29       1       Jazz\n",
      "5    30       1       Jazz\n",
      "6    31       1  Classical\n",
      "7    33       1  Classical\n",
      "8    37       1  Classical\n",
      "9    20       0      Dance\n",
      "10   21       0      Dance\n",
      "11   25       0      Dance\n",
      "12   26       0   Acoustic\n",
      "13   27       0   Acoustic\n",
      "14   30       0   Acoustic\n",
      "15   31       0  Classical\n",
      "16   34       0  Classical\n",
      "17   35       0  Classical\n"
     ]
    },
    {
     "name": "stdin",
     "output_type": "stream",
     "text": [
      "enter age >  24\n",
      "enter gender >  F\n"
     ]
    },
    {
     "name": "stdout",
     "output_type": "stream",
     "text": [
      " I estimated that she would like  Dance\n"
     ]
    }
   ],
   "source": [
    "import pandas as pd\n",
    "from sklearn.tree import DecisionTreeClassifier\n",
    "music_df = pd.read_csv('data/music.csv')\n",
    "print(music_df)\n",
    "X = music_df.drop(columns = [\"genre\"])\n",
    "y = music_df['genre']\n",
    "\n",
    "age = int(input('enter age > '))\n",
    "gender = input('enter gender > ')\n",
    "if gender == 'F':\n",
    "    sex = 0\n",
    "    sub = 'she'\n",
    "elif gender == 'M':\n",
    "     sex = 1\n",
    "     sub = 'he'\n",
    "else:\n",
    "     print('invalid character')\n",
    "        \n",
    "\"\"\"python tries to guess which type of music the user likes \n",
    "   by using the available data based on the age and gender \n",
    "   information entered by the user.\n",
    "   As you see ; there is no information about the genre of music \n",
    "   she likes for some age groups in the table. 21,  22, 24 ages for male.\n",
    "   22, 23, 24 ages for female.\n",
    "\"\"\"\n",
    "model = DecisionTreeClassifier()\n",
    "model.fit(X, y)\n",
    "prediction = model.predict([[age, sex]])\n",
    "print(f' I estimated that {sub} would like ', prediction[0])"
   ]
  },
  {
   "cell_type": "code",
   "execution_count": null,
   "id": "36e522cb-c09f-4605-aaf1-9b036ad20c36",
   "metadata": {},
   "outputs": [],
   "source": []
  }
 ],
 "metadata": {
  "kernelspec": {
   "display_name": "Python 3 (ipykernel)",
   "language": "python",
   "name": "python3"
  },
  "language_info": {
   "codemirror_mode": {
    "name": "ipython",
    "version": 3
   },
   "file_extension": ".py",
   "mimetype": "text/x-python",
   "name": "python",
   "nbconvert_exporter": "python",
   "pygments_lexer": "ipython3",
   "version": "3.9.7"
  }
 },
 "nbformat": 4,
 "nbformat_minor": 5
}
